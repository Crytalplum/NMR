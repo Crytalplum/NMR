{
  "nbformat": 4,
  "nbformat_minor": 0,
  "metadata": {
    "colab": {
      "provenance": []
    },
    "kernelspec": {
      "name": "python3",
      "display_name": "Python 3"
    },
    "language_info": {
      "name": "python"
    }
  },
  "cells": [
    {
      "cell_type": "code",
      "execution_count": 59,
      "metadata": {
        "colab": {
          "base_uri": "https://localhost:8080/"
        },
        "id": "wiiG79LxKmVb",
        "outputId": "28a12d73-a146-40e9-c4a4-50ec69cdd0e0"
      },
      "outputs": [
        {
          "output_type": "stream",
          "name": "stdout",
          "text": [
            "Drive already mounted at /content/drive; to attempt to forcibly remount, call drive.mount(\"/content/drive\", force_remount=True).\n"
          ]
        }
      ],
      "source": [
        "# you don't need that if you are not using Colab\n",
        "\n",
        "from google.colab import drive\n",
        "drive.mount('/content/drive')"
      ]
    },
    {
      "cell_type": "code",
      "source": [
        "# you don't need that if you are not using Colab\n",
        "!ls \"/content/drive/MyDrive/UCSB_data/NMR/SP\""
      ],
      "metadata": {
        "colab": {
          "base_uri": "https://localhost:8080/"
        },
        "id": "4ojKQeVjMyqL",
        "outputId": "2d9023b7-0d8f-41fb-cb32-8bd17845f3a4"
      },
      "execution_count": 2,
      "outputs": [
        {
          "output_type": "stream",
          "name": "stdout",
          "text": [
            "NMR.ipynb  SP_Pristine.txt\n"
          ]
        }
      ]
    },
    {
      "cell_type": "code",
      "source": [
        "import matplotlib.pyplot as plt\n",
        "import csv\n",
        "import math\n",
        "import numpy as np\n",
        "import re\n"
      ],
      "metadata": {
        "id": "jsAJTOj1M2zx"
      },
      "execution_count": 3,
      "outputs": []
    },
    {
      "cell_type": "code",
      "source": [
        "#function to extract NMR two column file\n",
        "\n",
        "def readNMR_topspin(file_path):\n",
        "  import numpy as np\n",
        "  import re\n",
        "  with open(file_path, 'r') as file:\n",
        "    file_contents = file.read()\n",
        "\n",
        "  \n",
        "  #locate line 4 for x-value at two ends\n",
        "\n",
        "  target_line_number = 3  # Assuming the line number is 3 (0-based index)\n",
        "  lines = file_contents.split('\\n')\n",
        "  target_line = lines[target_line_number]\n",
        "\n",
        "  # extract x-values at two ends\n",
        "  pattern = r'[-+]?\\d+\\.\\d+'  # Matches one or more digits\n",
        "  matched_numbers = re.findall(pattern, target_line)\n",
        "\n",
        "  numbers = [float(num) for num in matched_numbers]\n",
        "\n",
        "  shift_start=numbers[0]\n",
        "  shift_end=numbers[1]\n",
        "\n",
        "\n",
        "  # extract the data points\n",
        "\n",
        "  target_line_number2 = 5  # Assuming the line number is 3 (0-based index)\n",
        "  target_line2 = lines[target_line_number2]\n",
        "\n",
        "  # extract x-values at two ends\n",
        "  pattern2 = r'\\d+'  # Matches one or more digits\n",
        "  matched_numbers2 = re.findall(pattern2, target_line2)\n",
        "\n",
        "  numbers2 =int(matched_numbers2[0])\n",
        "\n",
        "  # creat x -value\n",
        "\n",
        "  px=np.linspace(shift_start,shift_end, num = numbers2)\n",
        "\n",
        "  # y value\n",
        "  py=np.loadtxt(file_path,skiprows=10,unpack=True,delimiter=' ')\n",
        "\n",
        "  return px, py"
      ],
      "metadata": {
        "id": "TRhiBvdFblSg"
      },
      "execution_count": 53,
      "outputs": []
    },
    {
      "cell_type": "code",
      "source": [
        "# read your file\n",
        "p1,p2=readNMR_topspin(\"/content/drive/MyDrive/UCSB_data/NMR/SP/SP_Pristine.txt\")"
      ],
      "metadata": {
        "id": "HKHe2TW6c4ax"
      },
      "execution_count": 54,
      "outputs": []
    },
    {
      "cell_type": "code",
      "source": [
        "#plot\n",
        "plt.subplots(figsize=(6,6))\n",
        "\n",
        "plt.plot(p1,p2,linewidth=2, color='deepskyblue',label=r'Spinel LiMn$_{0.156}$Ti$_{0.44}$O$_{4}$')\n",
        "\n",
        "#plt.ylim(-0.1,0.6)\n",
        "plt.xlim(4000,-4000)\n",
        "plt.rcParams['axes.linewidth'] = 1.5\n",
        "plt.rc('xtick', labelsize=18)\n",
        "#plt.ylabel('Intensity (arb. unit)',fontsize=22)\n",
        "plt.xlabel(r'$\\delta$ $^{7}$Li / ppm',fontsize=20) \n",
        "plt.yticks([])\n",
        "\n",
        "plt.rcParams['axes.spines.left']=True\n",
        "plt.rcParams['axes.spines.right']=True\n",
        "plt.rcParams['axes.spines.top']=True\n",
        "plt.rc('xtick', labelsize=20,direction=\"in\") \n",
        "plt.rcParams['xtick.major.size'] = 8\n",
        "plt.rcParams['xtick.minor.size'] = 4\n",
        "plt.rcParams['xtick.major.width'] = 1\n",
        "plt.legend(frameon=True, fontsize = 12, loc=4, edgecolor=\"black\",shadow=True, ncol=1,bbox_to_anchor=(1.25, 0.75))\n",
        "#ax.spines['right'].set_visible(False)\n",
        "#ax.spines['left'].set_visible(False)\n",
        "#plt.savefig('/content/drive/MyDrive/UCSB_data/NMR/compare.png')"
      ],
      "metadata": {
        "colab": {
          "base_uri": "https://localhost:8080/",
          "height": 590
        },
        "id": "XD4AMT0MwBnX",
        "outputId": "c07f8b08-9735-4289-9c98-912a0bb54cdd"
      },
      "execution_count": 58,
      "outputs": [
        {
          "output_type": "execute_result",
          "data": {
            "text/plain": [
              "<matplotlib.legend.Legend at 0x7fe4bcc08f10>"
            ]
          },
          "metadata": {},
          "execution_count": 58
        },
        {
          "output_type": "display_data",
          "data": {
            "text/plain": [
              "<Figure size 600x600 with 1 Axes>"
            ],
            "image/png": "[encoded data removed]"
          },
          "metadata": {}
        }
      ]
    },
    {
      "cell_type": "code",
      "source": [
        "#Save the data into two coulum file if you need to plot them in other software \n",
        "data = np.column_stack((p1, p2))\n",
        "np.savetxt('/content/drive/MyDrive/UCSB_data/NMR/SP/SP_Pristine_xy.txt', data, fmt='%d', delimiter='\\t')"
      ],
      "metadata": {
        "id": "IMJDfod0ikz5"
      },
      "execution_count": 60,
      "outputs": []
    }
  ]
}